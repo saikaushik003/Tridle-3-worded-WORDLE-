{
 "cells": [
  {
   "cell_type": "code",
   "execution_count": 1,
   "id": "2dc4278e-644d-43d9-9d34-749ff2e119df",
   "metadata": {},
   "outputs": [],
   "source": [
    "import collections\n",
    "import pandas as pd\n",
    "import random"
   ]
  },
  {
   "cell_type": "code",
   "execution_count": 2,
   "id": "eb575604-886b-463c-b763-adf99d47461f",
   "metadata": {},
   "outputs": [
    {
     "name": "stdout",
     "output_type": "stream",
     "text": [
      "bales blast wrist\n"
     ]
    }
   ],
   "source": [
    "df = pd.read_csv('words.csv')\n",
    "\n",
    "res = collections.defaultdict(int)\n",
    "\n",
    "for i in df['words']:\n",
    "    res[i] = 1\n",
    "\n",
    "first = random.choice(list(res.keys()))\n",
    "del res[first]\n",
    "\n",
    "second = random.choice(list(res.keys()))\n",
    "del res[second]\n",
    "\n",
    "third = random.choice(list(res.keys()))\n",
    "del res[third]\n",
    "\n",
    "print(first, second, third)"
   ]
  },
  {
   "cell_type": "code",
   "execution_count": 3,
   "id": "29bf5d70-bf7f-40dd-a045-b8885aef6803",
   "metadata": {},
   "outputs": [
    {
     "name": "stdin",
     "output_type": "stream",
     "text": [
      "Enter your 5 letter valid word:  drain\n"
     ]
    },
    {
     "name": "stdout",
     "output_type": "stream",
     "text": [
      "['ash', 'ash', 'yellow', 'ash', 'ash']\n",
      "['ash', 'ash', 'green', 'ash', 'ash']\n",
      "['ash', 'green', 'ash', 'yellow', 'ash']\n"
     ]
    },
    {
     "name": "stdin",
     "output_type": "stream",
     "text": [
      "Enter your 5 letter valid word:  wrist\n"
     ]
    },
    {
     "name": "stdout",
     "output_type": "stream",
     "text": [
      "['ash', 'ash', 'ash', 'yellow', 'ash']\n",
      "['ash', 'ash', 'ash', 'green', 'green']\n",
      "['green', 'green', 'green', 'green', 'green']\n"
     ]
    },
    {
     "name": "stdin",
     "output_type": "stream",
     "text": [
      "Enter your 5 letter valid word:  blast\n"
     ]
    },
    {
     "name": "stdout",
     "output_type": "stream",
     "text": [
      "['green', 'yellow', 'yellow', 'yellow', 'ash']\n",
      "['green', 'green', 'green', 'green', 'green']\n",
      "['', '', '', '', '']\n"
     ]
    },
    {
     "name": "stdin",
     "output_type": "stream",
     "text": [
      "Enter your 5 letter valid word:  bales\n"
     ]
    },
    {
     "name": "stdout",
     "output_type": "stream",
     "text": [
      "['green', 'green', 'green', 'green', 'green']\n",
      "['', '', '', '', '']\n",
      "['', '', '', '', '']\n"
     ]
    }
   ],
   "source": [
    "res = [first, second, third]\n",
    "check = [False, False, False]\n",
    "it = 0\n",
    "\n",
    "word_check = pd.read_csv('words_alpha.csv')\n",
    "checker = collections.defaultdict(int)\n",
    "for i in word_check['a']:\n",
    "    if len(str(i)) == 5:\n",
    "        checker[i] = 1\n",
    "\n",
    "while it < 8:\n",
    "    # Get a valid 5-letter guess from the user\n",
    "    guess = ''\n",
    "    while guess not in checker:\n",
    "        guess = input(\"Enter your 5 letter valid word: \").strip().lower()\n",
    "    \n",
    "    # For each secret word, give feedback only if not already solved.\n",
    "    i = 0\n",
    "    while i < len(res):\n",
    "        if not check[i]:\n",
    "            # Initialize feedback for the current word\n",
    "            feedback = [''] * 5\n",
    "            for j in range(len(res[i])):\n",
    "                # First, if the letter is anywhere in the word, mark as yellow...\n",
    "                if guess[j] in res[i]:\n",
    "                    feedback[j] = 'yellow'\n",
    "                # ... then if it is in the correct position, mark as green.\n",
    "                if guess[j] == res[i][j]:\n",
    "                    feedback[j] = 'green'\n",
    "                # If the letter is not in the secret word at all, mark as \"ash\"\n",
    "                elif guess[j] not in res[i]:\n",
    "                    feedback[j] = 'ash'\n",
    "            # If all letters are green, mark this word as solved.\n",
    "            if set(feedback) == {\"green\"}:\n",
    "                check[i] = True\n",
    "            print(feedback)\n",
    "        else:\n",
    "            # Once a word is solved, print a blank (empty feedback)\n",
    "            print(['', '', '', '', ''])\n",
    "        i += 1\n",
    "    \n",
    "    # If all secret words have been solved, exit the loop.\n",
    "    if check == [True, True, True]:\n",
    "        break\n",
    "    it += 1"
   ]
  },
  {
   "cell_type": "code",
   "execution_count": null,
   "id": "9daa9263-9eb8-4585-b606-f623ac63be43",
   "metadata": {},
   "outputs": [],
   "source": []
  }
 ],
 "metadata": {
  "kernelspec": {
   "display_name": "Python 3 (ipykernel)",
   "language": "python",
   "name": "python3"
  },
  "language_info": {
   "codemirror_mode": {
    "name": "ipython",
    "version": 3
   },
   "file_extension": ".py",
   "mimetype": "text/x-python",
   "name": "python",
   "nbconvert_exporter": "python",
   "pygments_lexer": "ipython3",
   "version": "3.10.9"
  }
 },
 "nbformat": 4,
 "nbformat_minor": 5
}
